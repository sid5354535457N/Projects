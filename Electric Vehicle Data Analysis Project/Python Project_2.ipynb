{
 "cells": [
  {
   "cell_type": "code",
   "execution_count": 1,
   "id": "fcf8aff4-5abd-4321-9a0f-fa68f212252b",
   "metadata": {},
   "outputs": [],
   "source": [
    "'''Explanation Video Link:- https://drive.google.com/file/d/12ipY2HMKhBFx1XTSSH3CjMbAzZiGWFzZ/view?usp=sharing'''"
   ]
  },
  {
   "cell_type": "code",
   "execution_count": 1,
   "id": "26924d6d-a2c5-4ec9-a409-481e0caad36e",
   "metadata": {},
   "outputs": [],
   "source": [
    "import pandas as pd\n",
    "import numpy as np\n",
    "import matplotlib.pyplot as plt\n",
    "import seaborn as sns"
   ]
  },
  {
   "cell_type": "code",
   "execution_count": 2,
   "id": "3650cbdc-183f-4c23-bcf0-323c6b58ca47",
   "metadata": {},
   "outputs": [
    {
     "data": {
      "text/html": [
       "<div>\n",
       "<style scoped>\n",
       "    .dataframe tbody tr th:only-of-type {\n",
       "        vertical-align: middle;\n",
       "    }\n",
       "\n",
       "    .dataframe tbody tr th {\n",
       "        vertical-align: top;\n",
       "    }\n",
       "\n",
       "    .dataframe thead th {\n",
       "        text-align: right;\n",
       "    }\n",
       "</style>\n",
       "<table border=\"1\" class=\"dataframe\">\n",
       "  <thead>\n",
       "    <tr style=\"text-align: right;\">\n",
       "      <th></th>\n",
       "      <th>Car full name</th>\n",
       "      <th>Make</th>\n",
       "      <th>Model</th>\n",
       "      <th>Minimal price (gross) [PLN]</th>\n",
       "      <th>Engine power [KM]</th>\n",
       "      <th>Maximum torque [Nm]</th>\n",
       "      <th>Type of brakes</th>\n",
       "      <th>Drive type</th>\n",
       "      <th>Battery capacity [kWh]</th>\n",
       "      <th>Range (WLTP) [km]</th>\n",
       "      <th>...</th>\n",
       "      <th>Permissable gross weight [kg]</th>\n",
       "      <th>Maximum load capacity [kg]</th>\n",
       "      <th>Number of seats</th>\n",
       "      <th>Number of doors</th>\n",
       "      <th>Tire size [in]</th>\n",
       "      <th>Maximum speed [kph]</th>\n",
       "      <th>Boot capacity (VDA) [l]</th>\n",
       "      <th>Acceleration 0-100 kph [s]</th>\n",
       "      <th>Maximum DC charging power [kW]</th>\n",
       "      <th>mean - Energy consumption [kWh/100 km]</th>\n",
       "    </tr>\n",
       "  </thead>\n",
       "  <tbody>\n",
       "    <tr>\n",
       "      <th>0</th>\n",
       "      <td>Audi e-tron 55 quattro</td>\n",
       "      <td>Audi</td>\n",
       "      <td>e-tron 55 quattro</td>\n",
       "      <td>345700</td>\n",
       "      <td>360</td>\n",
       "      <td>664</td>\n",
       "      <td>disc (front + rear)</td>\n",
       "      <td>4WD</td>\n",
       "      <td>95.0</td>\n",
       "      <td>438</td>\n",
       "      <td>...</td>\n",
       "      <td>3130.0</td>\n",
       "      <td>640.0</td>\n",
       "      <td>5</td>\n",
       "      <td>5</td>\n",
       "      <td>19</td>\n",
       "      <td>200</td>\n",
       "      <td>660.0</td>\n",
       "      <td>5.7</td>\n",
       "      <td>150</td>\n",
       "      <td>24.45</td>\n",
       "    </tr>\n",
       "    <tr>\n",
       "      <th>1</th>\n",
       "      <td>Audi e-tron 50 quattro</td>\n",
       "      <td>Audi</td>\n",
       "      <td>e-tron 50 quattro</td>\n",
       "      <td>308400</td>\n",
       "      <td>313</td>\n",
       "      <td>540</td>\n",
       "      <td>disc (front + rear)</td>\n",
       "      <td>4WD</td>\n",
       "      <td>71.0</td>\n",
       "      <td>340</td>\n",
       "      <td>...</td>\n",
       "      <td>3040.0</td>\n",
       "      <td>670.0</td>\n",
       "      <td>5</td>\n",
       "      <td>5</td>\n",
       "      <td>19</td>\n",
       "      <td>190</td>\n",
       "      <td>660.0</td>\n",
       "      <td>6.8</td>\n",
       "      <td>150</td>\n",
       "      <td>23.80</td>\n",
       "    </tr>\n",
       "    <tr>\n",
       "      <th>2</th>\n",
       "      <td>Audi e-tron S quattro</td>\n",
       "      <td>Audi</td>\n",
       "      <td>e-tron S quattro</td>\n",
       "      <td>414900</td>\n",
       "      <td>503</td>\n",
       "      <td>973</td>\n",
       "      <td>disc (front + rear)</td>\n",
       "      <td>4WD</td>\n",
       "      <td>95.0</td>\n",
       "      <td>364</td>\n",
       "      <td>...</td>\n",
       "      <td>3130.0</td>\n",
       "      <td>565.0</td>\n",
       "      <td>5</td>\n",
       "      <td>5</td>\n",
       "      <td>20</td>\n",
       "      <td>210</td>\n",
       "      <td>660.0</td>\n",
       "      <td>4.5</td>\n",
       "      <td>150</td>\n",
       "      <td>27.55</td>\n",
       "    </tr>\n",
       "    <tr>\n",
       "      <th>3</th>\n",
       "      <td>Audi e-tron Sportback 50 quattro</td>\n",
       "      <td>Audi</td>\n",
       "      <td>e-tron Sportback 50 quattro</td>\n",
       "      <td>319700</td>\n",
       "      <td>313</td>\n",
       "      <td>540</td>\n",
       "      <td>disc (front + rear)</td>\n",
       "      <td>4WD</td>\n",
       "      <td>71.0</td>\n",
       "      <td>346</td>\n",
       "      <td>...</td>\n",
       "      <td>3040.0</td>\n",
       "      <td>640.0</td>\n",
       "      <td>5</td>\n",
       "      <td>5</td>\n",
       "      <td>19</td>\n",
       "      <td>190</td>\n",
       "      <td>615.0</td>\n",
       "      <td>6.8</td>\n",
       "      <td>150</td>\n",
       "      <td>23.30</td>\n",
       "    </tr>\n",
       "    <tr>\n",
       "      <th>4</th>\n",
       "      <td>Audi e-tron Sportback 55 quattro</td>\n",
       "      <td>Audi</td>\n",
       "      <td>e-tron Sportback 55 quattro</td>\n",
       "      <td>357000</td>\n",
       "      <td>360</td>\n",
       "      <td>664</td>\n",
       "      <td>disc (front + rear)</td>\n",
       "      <td>4WD</td>\n",
       "      <td>95.0</td>\n",
       "      <td>447</td>\n",
       "      <td>...</td>\n",
       "      <td>3130.0</td>\n",
       "      <td>670.0</td>\n",
       "      <td>5</td>\n",
       "      <td>5</td>\n",
       "      <td>19</td>\n",
       "      <td>200</td>\n",
       "      <td>615.0</td>\n",
       "      <td>5.7</td>\n",
       "      <td>150</td>\n",
       "      <td>23.85</td>\n",
       "    </tr>\n",
       "  </tbody>\n",
       "</table>\n",
       "<p>5 rows × 25 columns</p>\n",
       "</div>"
      ],
      "text/plain": [
       "                      Car full name  Make                        Model  \\\n",
       "0            Audi e-tron 55 quattro  Audi            e-tron 55 quattro   \n",
       "1            Audi e-tron 50 quattro  Audi            e-tron 50 quattro   \n",
       "2             Audi e-tron S quattro  Audi             e-tron S quattro   \n",
       "3  Audi e-tron Sportback 50 quattro  Audi  e-tron Sportback 50 quattro   \n",
       "4  Audi e-tron Sportback 55 quattro  Audi  e-tron Sportback 55 quattro   \n",
       "\n",
       "   Minimal price (gross) [PLN]  Engine power [KM]  Maximum torque [Nm]  \\\n",
       "0                       345700                360                  664   \n",
       "1                       308400                313                  540   \n",
       "2                       414900                503                  973   \n",
       "3                       319700                313                  540   \n",
       "4                       357000                360                  664   \n",
       "\n",
       "        Type of brakes Drive type  Battery capacity [kWh]  Range (WLTP) [km]  \\\n",
       "0  disc (front + rear)        4WD                    95.0                438   \n",
       "1  disc (front + rear)        4WD                    71.0                340   \n",
       "2  disc (front + rear)        4WD                    95.0                364   \n",
       "3  disc (front + rear)        4WD                    71.0                346   \n",
       "4  disc (front + rear)        4WD                    95.0                447   \n",
       "\n",
       "   ...  Permissable gross weight [kg]  Maximum load capacity [kg]  \\\n",
       "0  ...                         3130.0                       640.0   \n",
       "1  ...                         3040.0                       670.0   \n",
       "2  ...                         3130.0                       565.0   \n",
       "3  ...                         3040.0                       640.0   \n",
       "4  ...                         3130.0                       670.0   \n",
       "\n",
       "   Number of seats  Number of doors  Tire size [in]  Maximum speed [kph]  \\\n",
       "0                5                5              19                  200   \n",
       "1                5                5              19                  190   \n",
       "2                5                5              20                  210   \n",
       "3                5                5              19                  190   \n",
       "4                5                5              19                  200   \n",
       "\n",
       "   Boot capacity (VDA) [l]  Acceleration 0-100 kph [s]  \\\n",
       "0                    660.0                         5.7   \n",
       "1                    660.0                         6.8   \n",
       "2                    660.0                         4.5   \n",
       "3                    615.0                         6.8   \n",
       "4                    615.0                         5.7   \n",
       "\n",
       "   Maximum DC charging power [kW]  mean - Energy consumption [kWh/100 km]  \n",
       "0                             150                                   24.45  \n",
       "1                             150                                   23.80  \n",
       "2                             150                                   27.55  \n",
       "3                             150                                   23.30  \n",
       "4                             150                                   23.85  \n",
       "\n",
       "[5 rows x 25 columns]"
      ]
     },
     "execution_count": 2,
     "metadata": {},
     "output_type": "execute_result"
    }
   ],
   "source": [
    "data=pd.read_csv(\"FEV-data-Excel.xlsx .csv\")\n",
    "data.head()"
   ]
  },
  {
   "cell_type": "code",
   "execution_count": 3,
   "id": "b8916713-943e-480d-a55c-45d6de783640",
   "metadata": {},
   "outputs": [],
   "source": [
    "#Task 1: A customer has a budget of 350,000 PLN and wants an EV with a minimum range of 400 km."
   ]
  },
  {
   "cell_type": "code",
   "execution_count": 4,
   "id": "702b93e6-69ea-406d-bf33-b3adb58176da",
   "metadata": {},
   "outputs": [],
   "source": [
    "#1a) Your task is to filter out EVs that meet these criteria."
   ]
  },
  {
   "cell_type": "code",
   "execution_count": 5,
   "id": "46a5bf99-c79c-4d97-821b-420b081822f5",
   "metadata": {},
   "outputs": [
    {
     "name": "stdout",
     "output_type": "stream",
     "text": [
      "                        Car full name           Make  \\\n",
      "0              Audi e-tron 55 quattro           Audi   \n",
      "8                             BMW iX3            BMW   \n",
      "15        Hyundai Kona electric 64kWh        Hyundai   \n",
      "18                   Kia e-Niro 64kWh            Kia   \n",
      "20                   Kia e-Soul 64kWh            Kia   \n",
      "22                  Mercedes-Benz EQC  Mercedes-Benz   \n",
      "39  Tesla Model 3 Standard Range Plus          Tesla   \n",
      "40           Tesla Model 3 Long Range          Tesla   \n",
      "41          Tesla Model 3 Performance          Tesla   \n",
      "47    Volkswagen ID.3 Pro Performance     Volkswagen   \n",
      "48              Volkswagen ID.3 Pro S     Volkswagen   \n",
      "49                Volkswagen ID.4 1st     Volkswagen   \n",
      "\n",
      "                          Model  Minimal price (gross) [PLN]  \\\n",
      "0             e-tron 55 quattro                       345700   \n",
      "8                           iX3                       282900   \n",
      "15          Kona electric 64kWh                       178400   \n",
      "18                 e-Niro 64kWh                       167990   \n",
      "20                 e-Soul 64kWh                       160990   \n",
      "22                          EQC                       334700   \n",
      "39  Model 3 Standard Range Plus                       195490   \n",
      "40           Model 3 Long Range                       235490   \n",
      "41          Model 3 Performance                       260490   \n",
      "47         ID.3 Pro Performance                       155890   \n",
      "48                   ID.3 Pro S                       179990   \n",
      "49                     ID.4 1st                       202390   \n",
      "\n",
      "    Range (WLTP) [km]  \n",
      "0                 438  \n",
      "8                 460  \n",
      "15                449  \n",
      "18                455  \n",
      "20                452  \n",
      "22                414  \n",
      "39                430  \n",
      "40                580  \n",
      "41                567  \n",
      "47                425  \n",
      "48                549  \n",
      "49                500  \n"
     ]
    }
   ],
   "source": [
    "filterEVs=data[(data['Minimal price (gross) [PLN]'] <= 350000)&(data['Range (WLTP) [km]'] >= 400)]\n",
    "print(filterEVs[['Car full name','Make', 'Model', 'Minimal price (gross) [PLN]', 'Range (WLTP) [km]']])"
   ]
  },
  {
   "cell_type": "code",
   "execution_count": 6,
   "id": "434a429d-2c46-44b0-ab29-653ec7912a57",
   "metadata": {},
   "outputs": [],
   "source": [
    "#1 b) Group them by the manufacturer (Make)."
   ]
  },
  {
   "cell_type": "code",
   "execution_count": 7,
   "id": "2b2a6610-f2ef-4adf-bbd3-c9882dc29703",
   "metadata": {},
   "outputs": [],
   "source": [
    "Makers=filterEVs.groupby('Make')"
   ]
  },
  {
   "cell_type": "code",
   "execution_count": null,
   "id": "a2f51415-8ce6-44c8-9cb5-e2a74675d877",
   "metadata": {},
   "outputs": [],
   "source": []
  },
  {
   "cell_type": "code",
   "execution_count": 8,
   "id": "628e414f-ff93-4071-b12e-88780d4dc142",
   "metadata": {},
   "outputs": [],
   "source": [
    "#1 c) Calculate the average battery capacity for each manufacturer."
   ]
  },
  {
   "cell_type": "code",
   "execution_count": 9,
   "id": "6a1a1825-97b3-480d-a6c0-87ebfea29f53",
   "metadata": {},
   "outputs": [
    {
     "name": "stdout",
     "output_type": "stream",
     "text": [
      "Make\n",
      "Audi             95.000000\n",
      "BMW              80.000000\n",
      "Hyundai          64.000000\n",
      "Kia              64.000000\n",
      "Mercedes-Benz    80.000000\n",
      "Tesla            68.000000\n",
      "Volkswagen       70.666667\n",
      "Name: Battery capacity [kWh], dtype: float64\n"
     ]
    }
   ],
   "source": [
    "avgBattery=Makers['Battery capacity [kWh]'].mean()\n",
    "print(avgBattery)"
   ]
  },
  {
   "cell_type": "code",
   "execution_count": null,
   "id": "8213def2-9bdd-4b84-ab65-873d7cd0ead8",
   "metadata": {},
   "outputs": [],
   "source": []
  },
  {
   "cell_type": "code",
   "execution_count": 10,
   "id": "9a53b64a-e95a-45d9-a712-b187593fa6e1",
   "metadata": {},
   "outputs": [],
   "source": [
    "# Task 2: You suspect some EVs have unusually high or low energy consumption. Find the outliers in the mean- Energy consumption [kWh/100 km] column."
   ]
  },
  {
   "cell_type": "code",
   "execution_count": 11,
   "id": "eae36294-fbb6-426f-b873-48ea8f5bec0d",
   "metadata": {},
   "outputs": [
    {
     "name": "stdout",
     "output_type": "stream",
     "text": [
      "Outliers in Energy Consumption:\n",
      "Empty DataFrame\n",
      "Columns: [Make, Model, mean - Energy consumption [kWh/100 km]]\n",
      "Index: []\n"
     ]
    }
   ],
   "source": [
    "minn= data['mean - Energy consumption [kWh/100 km]'].min()\n",
    "maxx = data['mean - Energy consumption [kWh/100 km]'].max()\n",
    "\n",
    "outliers = data[(data['mean - Energy consumption [kWh/100 km]'] < minn) | (data['mean - Energy consumption [kWh/100 km]'] > maxx)]\n",
    "\n",
    "print(\"Outliers in Energy Consumption:\")\n",
    "print(outliers[['Make', 'Model', 'mean - Energy consumption [kWh/100 km]']])\n"
   ]
  },
  {
   "cell_type": "code",
   "execution_count": null,
   "id": "80f894b8-14ec-45dc-87b6-3e9b58ecd55b",
   "metadata": {},
   "outputs": [],
   "source": [
    "\n"
   ]
  },
  {
   "cell_type": "code",
   "execution_count": 12,
   "id": "414f7111-365e-42e8-baeb-c8019a45e5d6",
   "metadata": {},
   "outputs": [],
   "source": [
    "# Task 3: Your manager wants to know if there's a strong relationship between battery capacity and range."
   ]
  },
  {
   "cell_type": "code",
   "execution_count": 13,
   "id": "4b9ca588-402e-4051-af6d-bb37b80f13b9",
   "metadata": {},
   "outputs": [],
   "source": [
    "#3 a) Create a suitable plot to visualize."
   ]
  },
  {
   "cell_type": "code",
   "execution_count": 14,
   "id": "3d8c6be0-e21b-4ea1-a73f-ca0d53f90343",
   "metadata": {},
   "outputs": [
    {
     "data": {
      "image/png": "[encoded data removed]",
      "text/plain": [
       "<Figure size 640x480 with 1 Axes>"
      ]
     },
     "metadata": {},
     "output_type": "display_data"
    }
   ],
   "source": [
    "sns.scatterplot(x=data['Battery capacity [kWh]'], y=data['Range (WLTP) [km]'])\n",
    "plt.title('Battery Capacity vs. Range')\n",
    "plt.xlabel('Battery Capacity')\n",
    "plt.ylabel('Range ')\n",
    "plt.show()"
   ]
  },
  {
   "cell_type": "code",
   "execution_count": 15,
   "id": "25cebdb8-8e4e-451a-9fdd-7b9f37e25014",
   "metadata": {},
   "outputs": [],
   "source": [
    "#3b) Highlight any insights."
   ]
  },
  {
   "cell_type": "code",
   "execution_count": 16,
   "id": "bcede972-be51-4151-a06a-ffb8ef5a1422",
   "metadata": {},
   "outputs": [
    {
     "data": {
      "text/plain": [
       "'The scatter plot shows a positive correlation between battery capacity and range, indicating that\\nvehicles with larger batteries typically offer longer driving ranges.'"
      ]
     },
     "execution_count": 16,
     "metadata": {},
     "output_type": "execute_result"
    }
   ],
   "source": [
    "'''The scatter plot shows a positive correlation between battery capacity and range, indicating that\n",
    "vehicles with larger batteries typically offer longer driving ranges.'''  "
   ]
  },
  {
   "cell_type": "code",
   "execution_count": 17,
   "id": "1cef709a-f2c1-4592-857e-72017de2734a",
   "metadata": {},
   "outputs": [
    {
     "data": {
      "text/plain": [
       "'Task 4: Build an EV recommendation class. The class should allow users to input their budget,\\n desired range, and battery capacity. The class should then return the top three EVs matching\\n their criteria. '"
      ]
     },
     "execution_count": 17,
     "metadata": {},
     "output_type": "execute_result"
    }
   ],
   "source": [
    "'''Task 4: Build an EV recommendation class. The class should allow users to input their budget,\n",
    " desired range, and battery capacity. The class should then return the top three EVs matching\n",
    " their criteria. '''"
   ]
  },
  {
   "cell_type": "code",
   "execution_count": 18,
   "id": "55d4892a-ef04-44e2-8c87-be5ad1f294f6",
   "metadata": {},
   "outputs": [
    {
     "name": "stdout",
     "output_type": "stream",
     "text": [
      "          Make                Model  Minimal price (gross) [PLN]  \\\n",
      "40       Tesla   Model 3 Long Range                       235490   \n",
      "41       Tesla  Model 3 Performance                       260490   \n",
      "48  Volkswagen           ID.3 Pro S                       179990   \n",
      "\n",
      "    Range (WLTP) [km]  Battery capacity [kWh]  \n",
      "40                580                    75.0  \n",
      "41                567                    75.0  \n",
      "48                549                    77.0  \n"
     ]
    }
   ],
   "source": [
    "class EVRecommendation:\n",
    "    def __init__(self, dataset):\n",
    "        self.data = dataset\n",
    "\n",
    "    def recommend(self, budget, min_range, min_battery_capacity):\n",
    "        recommendations = self.data[\n",
    "            (self.data['Minimal price (gross) [PLN]'] <= budget) &\n",
    "            (self.data['Range (WLTP) [km]'] >= min_range) &\n",
    "            (self.data['Battery capacity [kWh]'] >= min_battery_capacity)\n",
    "        ]\n",
    "        top_3 = recommendations.nlargest(3, 'Range (WLTP) [km]')\n",
    "        return top_3[['Make', 'Model', 'Minimal price (gross) [PLN]', 'Range (WLTP) [km]', 'Battery capacity [kWh]']]\n",
    "\n",
    "\n",
    "ev_rec = EVRecommendation(data)\n",
    "print(ev_rec.recommend(350000, 350, 55))"
   ]
  },
  {
   "cell_type": "code",
   "execution_count": null,
   "id": "0cd65119-e8bb-4efb-b890-9876723b41a3",
   "metadata": {},
   "outputs": [],
   "source": []
  },
  {
   "cell_type": "code",
   "execution_count": 19,
   "id": "b1ef1d46-0e0c-469a-99f5-b8654f71c08b",
   "metadata": {},
   "outputs": [
    {
     "data": {
      "text/plain": [
       "'Task 5: Inferential Statistics– Hypothesis Testing: Test whether there is a significant difference\\n in the average Engine power [KM] of vehicles manufactured by two leading manufacturers i.e.\\n Tesla and Audi. What insights can you draw from the test results? Recommendations and\\n Conclusion: Provide actionable insights based on your analysis.\\n (Conduct a two sample t-test using ttest_ind from scipy.stats module) '"
      ]
     },
     "execution_count": 19,
     "metadata": {},
     "output_type": "execute_result"
    }
   ],
   "source": [
    "'''Task 5: Inferential Statistics– Hypothesis Testing: Test whether there is a significant difference\n",
    " in the average Engine power [KM] of vehicles manufactured by two leading manufacturers i.e.\n",
    " Tesla and Audi. What insights can you draw from the test results? Recommendations and\n",
    " Conclusion: Provide actionable insights based on your analysis.\n",
    " (Conduct a two sample t-test using ttest_ind from scipy.stats module) '''"
   ]
  },
  {
   "cell_type": "code",
   "execution_count": 20,
   "id": "99e9be6e-b2b1-4a4e-990e-7182e4139ee7",
   "metadata": {},
   "outputs": [
    {
     "name": "stdout",
     "output_type": "stream",
     "text": [
      "T-Statistic: 1.7939951827297178\n",
      "P-Value: 0.10684105068839565\n",
      "There is no significant difference in average engine power between Tesla and Audi.\n"
     ]
    }
   ],
   "source": [
    "from scipy.stats import ttest_ind\n",
    "tesla_power = data[data['Make'] == 'Tesla']['Engine power [KM]']\n",
    "audi_power = data[data['Make'] == 'Audi']['Engine power [KM]']\n",
    "\n",
    "t_stat, p_value = ttest_ind(tesla_power, audi_power, equal_var=False)\n",
    "\n",
    "print(\"T-Statistic:\", t_stat)\n",
    "print(\"P-Value:\", p_value)\n",
    "\n",
    "if p_value < 0.05:\n",
    "    print(\"There is a significant difference in average engine power between Tesla and Audi.\")\n",
    "else:\n",
    "    print(\"There is no significant difference in average engine power between Tesla and Audi.\")\n"
   ]
  },
  {
   "cell_type": "code",
   "execution_count": null,
   "id": "cbfc4096-6ebe-48de-84f0-07f2936fb425",
   "metadata": {},
   "outputs": [],
   "source": []
  },
  {
   "cell_type": "code",
   "execution_count": null,
   "id": "5526f80e-7f7a-4ca9-a0d4-baca4c40e2e0",
   "metadata": {},
   "outputs": [],
   "source": []
  },
  {
   "cell_type": "code",
   "execution_count": null,
   "id": "c292c79a-4145-4171-8fa6-48c4d973082a",
   "metadata": {},
   "outputs": [],
   "source": []
  },
  {
   "cell_type": "code",
   "execution_count": null,
   "id": "d3bf640f-fe3a-4f62-9362-27334527dda5",
   "metadata": {},
   "outputs": [],
   "source": [
    "'''Explanation Video Link:- https://drive.google.com/file/d/12ipY2HMKhBFx1XTSSH3CjMbAzZiGWFzZ/view?usp=sharing'''"
   ]
  },
  {
   "cell_type": "code",
   "execution_count": null,
   "id": "c170c22e-53f4-4531-9ba4-44dfbe686997",
   "metadata": {},
   "outputs": [],
   "source": []
  },
  {
   "cell_type": "code",
   "execution_count": null,
   "id": "f903a83e-33ed-4058-98c0-ca419bff0e3a",
   "metadata": {},
   "outputs": [],
   "source": []
  }
 ],
 "metadata": {
  "kernelspec": {
   "display_name": "Python 3 (ipykernel)",
   "language": "python",
   "name": "python3"
  },
  "language_info": {
   "codemirror_mode": {
    "name": "ipython",
    "version": 3
   },
   "file_extension": ".py",
   "mimetype": "text/x-python",
   "name": "python",
   "nbconvert_exporter": "python",
   "pygments_lexer": "ipython3",
   "version": "3.12.4"
  }
 },
 "nbformat": 4,
 "nbformat_minor": 5
}
